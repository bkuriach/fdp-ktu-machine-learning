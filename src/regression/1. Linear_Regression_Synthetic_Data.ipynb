{
 "cells": [
  {
   "cell_type": "markdown",
   "id": "a285a4a3-13b8-4bd7-9918-f202559cd41b",
   "metadata": {},
   "source": [
    "### Algorithm: Linear Regression\n",
    "\n",
    "* Import Libraries\n",
    "* Generate Synthetic Data\n",
    "  * Define Slope and Intercept\n",
    "  * Y = Slope * X + Intercept + Noise\n",
    "* Define number_of_iterations, learning rate\n",
    "* Initialize Weights and Bias\n",
    "* While iteration < number_of_iterations (or loss less than threshold):\n",
    "  * Predict Y using weights and bias ( WX + B)\n",
    "  * Calculate derivatives of weights and bias with respect to loss\n",
    "    * dW = - ( 2 * (X.T ).dot(Y - Y_pred )  ) / m\n",
    "    * db = - 2 * np.sum(Y - Y_pred ) / m\n",
    "    * Update Weights: weights = weights - learning_rate * dW\n",
    "    * Update Bias: bias = bias - learning_rate * db\n",
    "* Get the final weights and bias\n",
    "* Predict using learned weights and bias\n",
    "* Calculate loss (MSE, RMSE etc..)\n",
    "* Plot results"
   ]
  },
  {
   "cell_type": "code",
   "execution_count": null,
   "id": "c7787d7c-b8d8-4e55-bd4b-6cb56cf17e46",
   "metadata": {},
   "outputs": [],
   "source": [
    "# Importing libraries  \n",
    "import numpy as np  \n",
    "import pandas as pd  \n",
    "from sklearn.model_selection import train_test_split  \n",
    "import matplotlib.pyplot as plt\n",
    "from sklearn.metrics import (\n",
    "    r2_score,\n",
    "    mean_squared_error\n",
    ")"
   ]
  },
  {
   "cell_type": "markdown",
   "id": "50d98871-fc77-49b5-ab8a-e49e01ab1180",
   "metadata": {},
   "source": [
    "This Python function `generate_synthetic_data(n)` is used to generate synthetic data for regression analysis. Here's a step-by-step explanation:\n",
    "\n",
    "1. The function takes one argument `n`, which is the number of data points to be generated.\n",
    "\n",
    "2. `X = np.random.rand(n, 1)`: This line generates an array of `n` random numbers between 0 and 1. Each number is considered as a feature for a data point.\n",
    "\n",
    "3. `y = 2 + 3 * X + (np.random.randn(n, 1)/5)`: This line generates the target variable `y` for each data point. The value of `y` is calculated based on the equation of a line `y = mx + c` where `m` is the slope (3 in this case), `c` is the y-intercept (2 in this case), and `x` is the feature value. `(np.random.randn(n, 1)/5)` is added to introduce some noise to the data. The noise is scaled down by a factor of 5 compared to the previous version of the function.\n",
    "\n",
    "4. `data = pd.DataFrame(np.hstack([X, y]), columns=['X', 'y'])`: This line creates a pandas DataFrame from the generated `X` and `y` values. `np.hstack([X, y])` horizontally stacks the `X` and `y` arrays. The resulting DataFrame has two columns: 'X' and 'y'.\n",
    "\n",
    "5. Finally, the function returns the created DataFrame.\n",
    "\n",
    "This function is useful when you want to create a simple dataset for testing or demonstrating machine learning algorithms, especially regression models.\n",
    "\n",
    "\n"
   ]
  },
  {
   "cell_type": "code",
   "execution_count": 2,
   "id": "cae0ddc8-35ae-4024-8679-8ecee6a17fba",
   "metadata": {},
   "outputs": [],
   "source": [
    "def generate_synthetic_data(n):\n",
    "    # Generate random data\n",
    "    X = np.random.rand(n, 1)\n",
    "    y = 2 + 3 * X + (np.random.randn(n, 1)/5)\n",
    "    \n",
    "    # Convert to pandas DataFrame\n",
    "    data = pd.DataFrame(np.hstack([X, y]), columns=['X', 'y'])\n",
    "    \n",
    "    return data"
   ]
  },
  {
   "cell_type": "markdown",
   "id": "79ea4fb6-7eb6-4884-a8e7-fd99c3cfbdaa",
   "metadata": {},
   "source": [
    "Python function `predict(weights, bias, X)` is used to make predictions using a linear regression model. Here's a step-by-step explanation:\n",
    "\n",
    "1. The function takes three arguments: `weights`, `bias`, and `X`. `weights` are the coefficients for each feature in the dataset, `bias` is the y-intercept of the linear model, and `X` is the input data (features).\n",
    "\n",
    "2. `return X.dot(weights) + bias`: This line calculates the predicted output. `X.dot(weights)` is the dot product of the input data and the weights, which essentially means it multiplies each feature value with its corresponding weight and sums them all up. Then, it adds the `bias` to this sum. \n",
    "\n",
    "\n",
    "\n"
   ]
  },
  {
   "cell_type": "code",
   "execution_count": 3,
   "id": "282d9800-e770-455b-a9af-f9065041bb92",
   "metadata": {},
   "outputs": [],
   "source": [
    "# Predict function  h( x ) \n",
    "def predict(weights, bias, X ) :\n",
    "    return X.dot( weights ) + bias"
   ]
  },
  {
   "cell_type": "markdown",
   "id": "18a20e23-039b-4705-ba4a-61c963fd3b9c",
   "metadata": {},
   "source": [
    "Python function `update_weights(weights, bias, X, Y, m)` is used to update the weights and bias in the gradient descent algorithm for a linear regression model. Here's a step-by-step explanation:\n",
    "\n",
    "1. The function takes five arguments: `weights`, `bias`, `X`, `Y`, and `m`. `weights` are the coefficients for each feature in the dataset, `bias` is the y-intercept of the linear model, `X` is the input data (features), `Y` is the actual output data (target), and `m` is the number of training examples.\n",
    "\n",
    "2. `Y_pred = predict(weights, bias, X)`: This line calculates the predicted output using the current weights and bias.\n",
    "\n",
    "3. `dW = - ( 2 * (X.T ).dot(Y - Y_pred )  ) / m`: This line calculates the gradient of the loss function with respect to the weights. It's the average of the product of the features and the difference between the actual and predicted outputs.\n",
    "\n",
    "4. `db = - 2 * np.sum(Y - Y_pred ) / m`: This line calculates the gradient of the loss function with respect to the bias. It's the average of the difference between the actual and predicted outputs.\n",
    "\n",
    "5. `weights = weights - learning_rate * dW` and `bias = bias - learning_rate * db`: These lines update the weights and bias by subtracting the product of the learning rate and the gradients. This is the key step in the gradient descent algorithm.\n",
    "\n",
    "6. Finally, the function returns the updated weights and bias.\n",
    "\n",
    "\n"
   ]
  },
  {
   "cell_type": "code",
   "execution_count": 4,
   "id": "0d2b4f98-23be-415e-a4fc-a662df7e09fe",
   "metadata": {},
   "outputs": [],
   "source": [
    "# Function to update weights in gradient descent      \n",
    "def update_weights(weights, bias, X, Y, m ) :\n",
    "\n",
    "    Y_pred = predict( weights, bias, X ) \n",
    "\n",
    "    # calculate gradients        \n",
    "    dW = - ( 2 * (X.T ).dot(Y - Y_pred )  ) / m       \n",
    "    db = - 2 * np.sum(Y - Y_pred ) / m \n",
    "      \n",
    "    # update weights      \n",
    "    weights = weights - learning_rate * dW      \n",
    "    bias = bias - learning_rate * db\n",
    "      \n",
    "    return weights, bias"
   ]
  },
  {
   "cell_type": "markdown",
   "id": "42fe60a1-b38c-4d7b-ac8a-a7a0887b2697",
   "metadata": {},
   "source": [
    "Function `fit(X, Y)` is used to train a linear regression model using the gradient descent algorithm. Here's a step-by-step explanation:\n",
    "\n",
    "1. The function takes two arguments: `X` and `Y`. `X` is the input data (features) and `Y` is the actual output data (target).\n",
    "\n",
    "2. `m, n = X.shape`: This line gets the number of training examples `m` and the number of features `n` from the shape of the input data.\n",
    "\n",
    "3. `weights = np.zeros(n)` and `bias = 0`: These lines initialize the weights and bias to zero. The weights are a numpy array of zeros with a length equal to the number of features.\n",
    "\n",
    "4. The for loop `for i in range(iterations)`: This loop runs the gradient descent algorithm for a specified number of iterations. In each iteration, it updates the weights and bias using the `update_weights` function.\n",
    "\n",
    "5. Finally, the function returns the trained weights and bias.\n",
    "\n",
    "This function is typically the main function used to train a linear regression model. After training, the weights and bias can be used to make predictions on new data.\n",
    "\n"
   ]
  },
  {
   "cell_type": "code",
   "execution_count": 5,
   "id": "695bd0c3-3b9a-4c06-88b1-21d9ce6037c9",
   "metadata": {},
   "outputs": [],
   "source": [
    "\n",
    "def fit( X, Y ) :          \n",
    "    # no_of_training_examples, no_of_features          \n",
    "    m, n = X.shape\n",
    "\n",
    "    # weight initialization          \n",
    "    weights = np.zeros( n )          \n",
    "    bias = 0                    \n",
    "      \n",
    "    # gradient descent learning                  \n",
    "    for i in range(iterations ) :              \n",
    "        weights, bias = update_weights(weights, bias, X, Y, m)\n",
    "          \n",
    "    return weights, bias"
   ]
  },
  {
   "cell_type": "markdown",
   "id": "c80cf62d-9a1e-4196-b661-b1812e403ce1",
   "metadata": {},
   "source": [
    "#### Generate dataset"
   ]
  },
  {
   "cell_type": "code",
   "execution_count": 6,
   "id": "3a0494c3-807c-4383-b329-5cb8a2ea65f2",
   "metadata": {},
   "outputs": [],
   "source": [
    "# Generating dataset      \n",
    "df = generate_synthetic_data(1000)"
   ]
  },
  {
   "cell_type": "code",
   "execution_count": 7,
   "id": "ae6a8455-fa93-4703-b8f0-bcbab65815f8",
   "metadata": {},
   "outputs": [
    {
     "data": {
      "text/html": [
       "<div>\n",
       "<style scoped>\n",
       "    .dataframe tbody tr th:only-of-type {\n",
       "        vertical-align: middle;\n",
       "    }\n",
       "\n",
       "    .dataframe tbody tr th {\n",
       "        vertical-align: top;\n",
       "    }\n",
       "\n",
       "    .dataframe thead th {\n",
       "        text-align: right;\n",
       "    }\n",
       "</style>\n",
       "<table border=\"1\" class=\"dataframe\">\n",
       "  <thead>\n",
       "    <tr style=\"text-align: right;\">\n",
       "      <th></th>\n",
       "      <th>X</th>\n",
       "      <th>y</th>\n",
       "    </tr>\n",
       "  </thead>\n",
       "  <tbody>\n",
       "    <tr>\n",
       "      <th>0</th>\n",
       "      <td>0.099546</td>\n",
       "      <td>2.047734</td>\n",
       "    </tr>\n",
       "    <tr>\n",
       "      <th>1</th>\n",
       "      <td>0.884609</td>\n",
       "      <td>4.713791</td>\n",
       "    </tr>\n",
       "    <tr>\n",
       "      <th>2</th>\n",
       "      <td>0.992080</td>\n",
       "      <td>5.042244</td>\n",
       "    </tr>\n",
       "    <tr>\n",
       "      <th>3</th>\n",
       "      <td>0.087204</td>\n",
       "      <td>2.188289</td>\n",
       "    </tr>\n",
       "    <tr>\n",
       "      <th>4</th>\n",
       "      <td>0.128990</td>\n",
       "      <td>2.298775</td>\n",
       "    </tr>\n",
       "  </tbody>\n",
       "</table>\n",
       "</div>"
      ],
      "text/plain": [
       "          X         y\n",
       "0  0.099546  2.047734\n",
       "1  0.884609  4.713791\n",
       "2  0.992080  5.042244\n",
       "3  0.087204  2.188289\n",
       "4  0.128990  2.298775"
      ]
     },
     "execution_count": 7,
     "metadata": {},
     "output_type": "execute_result"
    }
   ],
   "source": [
    "df.head()"
   ]
  },
  {
   "cell_type": "markdown",
   "id": "a14e4966-15d2-47e7-ba52-c15726a0e793",
   "metadata": {},
   "source": [
    "#### Assign Features (X) and Actual Output (Y) from generated Dataset"
   ]
  },
  {
   "cell_type": "code",
   "execution_count": 8,
   "id": "02ceec3c-51c3-4854-8003-36dcb9a0a486",
   "metadata": {},
   "outputs": [],
   "source": [
    "X = df.iloc[:,:-1].values  \n",
    "Y = df.iloc[:,1].values"
   ]
  },
  {
   "cell_type": "markdown",
   "id": "69abff96-889a-4679-8013-068567fdd848",
   "metadata": {},
   "source": [
    "#### Split data into train and test"
   ]
  },
  {
   "cell_type": "code",
   "execution_count": 9,
   "id": "ef889f45-da58-4b23-bccb-b6533bdb8969",
   "metadata": {},
   "outputs": [],
   "source": [
    "# Splitting dataset into train and test set  \n",
    "X_train, X_test, Y_train, Y_test = train_test_split( \n",
    "X, Y, test_size = 1/3, random_state = 0 )"
   ]
  },
  {
   "cell_type": "markdown",
   "id": "82e988b4-0757-4c7a-b8ac-e492b566c9e7",
   "metadata": {},
   "source": [
    "#### Model training\n",
    "* Define number of iterations\n",
    "* Define learning rate\n",
    "* Fit the model"
   ]
  },
  {
   "cell_type": "code",
   "execution_count": 10,
   "id": "00f73874-66b7-4c68-aeca-c0f8426f63cd",
   "metadata": {},
   "outputs": [],
   "source": [
    "# Model training      \n",
    "iterations = 1000 \n",
    "learning_rate = 0.01   \n",
    "weights, bias = fit( X_train, Y_train )"
   ]
  },
  {
   "cell_type": "markdown",
   "id": "f0ee14b5-7d08-4128-9ecb-f84535b4a7af",
   "metadata": {},
   "source": [
    "#### Prediction on test set"
   ]
  },
  {
   "cell_type": "code",
   "execution_count": 11,
   "id": "2a1fb242-a53a-4852-8523-3004c1683948",
   "metadata": {},
   "outputs": [],
   "source": [
    "# Prediction on test set  \n",
    "Y_pred = predict(weights, bias, X_test )"
   ]
  },
  {
   "cell_type": "markdown",
   "id": "83d7609a-6d5a-4370-b232-c88306f8f4d2",
   "metadata": {},
   "source": [
    "#### Analyse trained weights & bias\n",
    "\n",
    "Trained weights and bias is closer to the actual ones used while generating data"
   ]
  },
  {
   "cell_type": "code",
   "execution_count": 12,
   "id": "5e8e3351-7756-4e03-b5c5-069eaceec90f",
   "metadata": {},
   "outputs": [
    {
     "name": "stdout",
     "output_type": "stream",
     "text": [
      "Predicted values  [2.23 3.21 3.77]\n",
      "Real values       [1.48365077 2.6299265  3.98131677]\n",
      "Trained Weights         2.61\n",
      "Trained bias         2.21\n"
     ]
    }
   ],
   "source": [
    "print( \"Predicted values \", np.round( Y_pred[:3], 2 ) )       \n",
    "print( \"Real values      \", Y_test[:3] )      \n",
    "print( \"Trained Weights        \", round( weights[0], 2 ) )      \n",
    "print( \"Trained bias        \", round( bias, 2 ) )"
   ]
  },
  {
   "cell_type": "markdown",
   "id": "2a15cf3b-7245-4106-8778-486e5502414c",
   "metadata": {},
   "source": [
    "#### Calculate RMSE and R Squared value"
   ]
  },
  {
   "cell_type": "code",
   "execution_count": 13,
   "id": "7b533235-d4ee-4ac1-9f0d-16ee6538faab",
   "metadata": {},
   "outputs": [
    {
     "name": "stdout",
     "output_type": "stream",
     "text": [
      "Root Mean Squared Error 0.2310252015763011\n",
      "R^2 0.9329276288055705\n"
     ]
    }
   ],
   "source": [
    "print(\"Root Mean Squared Error\",np.sqrt(mean_squared_error(Y_test,Y_pred)))\n",
    "r2 = r2_score(Y_test,Y_pred)\n",
    "print(\"R^2\", r2)"
   ]
  },
  {
   "cell_type": "markdown",
   "id": "63368390-63af-41ce-a99b-36c3f83f2d43",
   "metadata": {},
   "source": [
    "#### Calculate adusted R Square value"
   ]
  },
  {
   "cell_type": "code",
   "execution_count": 14,
   "id": "afa4c838-d787-4abe-ad18-4e440afec05a",
   "metadata": {},
   "outputs": [
    {
     "name": "stdout",
     "output_type": "stream",
     "text": [
      "Adjusted R^2 0.9328604220208065\n"
     ]
    }
   ],
   "source": [
    "adjusted_r_squared = 1 - (1-r2)*(len(Y)-1)/(len(Y)-X.shape[1]-1)\n",
    "print(\"Adjusted R^2\",adjusted_r_squared)"
   ]
  },
  {
   "cell_type": "markdown",
   "id": "40178f1c-99e1-46d8-86f8-b8954bd791a1",
   "metadata": {},
   "source": [
    "#### Plot Actual Vr Prediction"
   ]
  },
  {
   "cell_type": "code",
   "execution_count": 15,
   "id": "0ceda334-1ce0-44ac-946a-2bb1ad662330",
   "metadata": {},
   "outputs": [
    {
     "data": {
      "image/png": "[encoded data removed]",
      "text/plain": [
       "<Figure size 640x480 with 1 Axes>"
      ]
     },
     "metadata": {},
     "output_type": "display_data"
    }
   ],
   "source": [
    "# Visualization on test set       \n",
    "plt.scatter( X_test, Y_test, color = 'blue' )      \n",
    "plt.plot( X_test, Y_pred, color = 'orange' )      \n",
    "plt.title( 'Synthetic Data' )      \n",
    "plt.xlabel( 'Feature 1' )      \n",
    "plt.ylabel( 'Y' )\n",
    "  \n",
    "plt.show()"
   ]
  },
  {
   "cell_type": "code",
   "execution_count": null,
   "id": "2b49916b-b331-48d7-b5ef-9d77c61b48c0",
   "metadata": {},
   "outputs": [],
   "source": []
  }
 ],
 "metadata": {
  "kernelspec": {
   "display_name": "Python 3 (ipykernel)",
   "language": "python",
   "name": "python3"
  },
  "language_info": {
   "codemirror_mode": {
    "name": "ipython",
    "version": 3
   },
   "file_extension": ".py",
   "mimetype": "text/x-python",
   "name": "python",
   "nbconvert_exporter": "python",
   "pygments_lexer": "ipython3",
   "version": "3.12.0"
  }
 },
 "nbformat": 4,
 "nbformat_minor": 5
}
