{
 "cells": [
  {
   "cell_type": "markdown",
   "id": "1c5a4b70-18e3-475f-b605-db9c6afe5628",
   "metadata": {},
   "source": [
    "## Steps to Compute Principal Components from Scratch\n",
    "\n",
    "\n",
    "1. Standardize each column\n",
    "2. Compute Covariance Matrix\n",
    "3. Compute Eigen values and Eigen Vectors\n",
    "4. Derive Principal Component Features by taking dot product of eigen vector and standardized columns\n",
    "\n",
    "**Eigen Value**\n",
    "\n",
    "* The term eigenvalue can be termed as characteristic value, characteristic root, proper values or latent roots as well.\n",
    "\n",
    "* In simple words, the eigenvalue is a scalar that is used to transform the eigenvector\n",
    "\n",
    "                            Basic Equation is Ax = λx\n",
    "\n",
    "* The number or scalar value “λ” is an eigenvalue of A.\n",
    "\n",
    "* In Mathematics, an eigen vector corresponds to the real non zero eigenvalues which point in the direction stretched by the transformation whereas eigen value is considered as a factor by which it is stretched.\n",
    "\n",
    "* In case, if the eigen value is negative, the direction of the transformation is negative.\n",
    "\n",
    "* Eigenvalues are coefficients applied to eigenvectors that give the vectors their length or magnitude. For example, a negative eigenvalue may reverse the direction of the eigenvector as part of scaling it.\n",
    "\n",
    "**Eigen Vectors**\n",
    "\n",
    "* Eigenvectors are the vectors(non-zero) that do not change the direction when any linear transformation is applied.\n",
    "* Eigen Vector changes by only a scalar factor (also known as Eigen Value)\n",
    "* Let us say A is an “n × n” matrix and λ is an eigenvalue of matrix A, then x, a non-zero vector, is called as eigenvector if it satisfies the given below expression;\n",
    "\n",
    "                       Basic Equation is Ax = λx where x is an eigenvector of A corresponding to eigenvalue, λ.\n",
    "\n",
    "**Why use Eigenvalues & Eigenvectors**\n",
    "* In simple words, the concept of Eigenvectors and Eigenvalues are used to determine a set of important variables (in form of vector) along with scale along different dimensions (key dimensions based on variance) for analysing the data in a better manner."
   ]
  },
  {
   "cell_type": "code",
   "execution_count": 1,
   "id": "341ccb0a-3605-45aa-b605-547978b050bf",
   "metadata": {},
   "outputs": [],
   "source": [
    "import numpy as np\n",
    "import pandas as pd\n",
    "import matplotlib.pyplot as plt\n",
    "%matplotlib inline\n",
    "from sklearn import datasets\n",
    "from sklearn.decomposition import PCA\n",
    "from sklearn.preprocessing import StandardScaler\n",
    "from sklearn.model_selection import train_test_split"
   ]
  },
  {
   "cell_type": "code",
   "execution_count": 2,
   "id": "4b66ba88-fbde-4403-a5d9-0586da77f229",
   "metadata": {},
   "outputs": [
    {
     "name": "stdout",
     "output_type": "stream",
     "text": [
      "Shape of Data: (5, 3)\n",
      "   X    Y    Z\n",
      "0  1  123  531\n",
      "1  2  142  522\n",
      "2  3  163  573\n",
      "3  4  174  514\n",
      "4  5  195  595\n"
     ]
    }
   ],
   "source": [
    "\n",
    "# Let's take an Example\n",
    "X = np.array([1,2,3,4,5])\n",
    "Y = np.array([123,142,163,174,195])\n",
    "Z = np.array([531,522,573,514,595])\n",
    "data = pd.DataFrame({'X':X, 'Y':Y, 'Z':Z})\n",
    "print(\"Shape of Data:\", data.shape)\n",
    "print(data)\n"
   ]
  },
  {
   "cell_type": "code",
   "execution_count": 3,
   "id": "4d89e6bd-5180-4782-bbba-e614832be761",
   "metadata": {},
   "outputs": [
    {
     "name": "stdout",
     "output_type": "stream",
     "text": [
      "\n",
      "Step 1. Calculate Mean of Each Column\n",
      "Mean of X : 3.0\n",
      "Mean of Y : 159.4\n",
      "Mean of Z : 547.0\n"
     ]
    }
   ],
   "source": [
    "# Manual Steps\n",
    "print(\"\\nStep 1. Calculate Mean of Each Column\")\n",
    "Mean_X = data[\"X\"].mean()\n",
    "print(\"Mean of X :\",Mean_X)\n",
    "Mean_Y = data[\"Y\"].mean()\n",
    "print(\"Mean of Y :\",Mean_Y)\n",
    "Mean_Z = data[\"Z\"].mean()\n",
    "print(\"Mean of Z :\",Mean_Z)"
   ]
  },
  {
   "cell_type": "code",
   "execution_count": 7,
   "id": "251a5571-8f4d-435e-8240-e8b981118872",
   "metadata": {},
   "outputs": [
    {
     "name": "stdout",
     "output_type": "stream",
     "text": [
      "\n",
      "Step 2. Calculate Variance\n",
      "X       2.5\n",
      "Y     780.3\n",
      "Z    1237.5\n",
      "dtype: float64\n"
     ]
    }
   ],
   "source": [
    "print(\"\\nStep 2. Calculate Variance\")\n",
    "# Variance = sum(((x(i) - mean(x))^2))/n-1\n",
    "# Var(X) = [ (1-3.0)^2 + (2-3.0)^2 + (3-3.0)^2 + (4-3.0)^2 +(5-3.0)^2 ] / (5-1) = (4.0 + 1.0 + 0.0 + 1.0 + 4.0) / 4 = 10.0 / 4 = 2.5\n",
    "print(data.var())"
   ]
  },
  {
   "cell_type": "code",
   "execution_count": 8,
   "id": "f494a42e-aef2-419a-a30b-9e575fa3899d",
   "metadata": {},
   "outputs": [
    {
     "name": "stdout",
     "output_type": "stream",
     "text": [
      "\n",
      "Step 3. Covariance Matrix : (3, 3)\n",
      "      X      Y       Z\n",
      "X   2.5   44.0    30.0\n",
      "Y  44.0  780.3   584.5\n",
      "Z  30.0  584.5  1237.5\n"
     ]
    }
   ],
   "source": [
    "print(\"\\nStep 3. Covariance Matrix :\",data.cov().shape)\n",
    "# Covariance (XY) = (sum|X(i)-mean(X) * Y(i)-mean(Y)|) / (n-1)\n",
    "# Covar(XY) = [(1–3.0)*(123-159.4) + (2–3.0)*(142-159.4) + (3-3.0)*(163-159.4) + (4-3.0)*(174-159.4) + (5-3.0)*(195-159.4)] / (5-1) \n",
    "# = [2.0*36.4 + 1.0*17.4 + 0.0 + 1.0*14.5 + 2.0*35.5] / 4 \n",
    "# = 175.7 / 4 = 43.92 ~ 44\n",
    "# Covar(XY) = 44\n",
    "# If you examine the calculations carefully, you’ll see the pattern to compute the covariance of the XZ and YZ columns. \n",
    "# And you’ll see that Covar(XY) = Covar(YX).\n",
    "print(data.cov())"
   ]
  },
  {
   "cell_type": "code",
   "execution_count": 9,
   "id": "9fdb7e75-8853-4c04-844e-99554bfa0560",
   "metadata": {},
   "outputs": [
    {
     "name": "stdout",
     "output_type": "stream",
     "text": [
      "\n",
      "Step 4. Eigenvalues and Eigenvectors for the calculated Covariance matrix.\n",
      "Eigen Values of Covariance Matrix : [7.92511994e-03 3.82275407e+02 1.63801667e+03]\n",
      "Eigen Vectors of Covariance Matrix :\n",
      "[[ 0.99824773  0.05082148  0.03030913]\n",
      " [-0.05905775  0.82370297  0.56393759]\n",
      " [ 0.00369442 -0.56473941  0.82526102]]\n"
     ]
    }
   ],
   "source": [
    "print(\"\\nStep 4. Eigenvalues and Eigenvectors for the calculated Covariance matrix.\")\n",
    "#Calculating Eigenvalues and Eigenvectors of the covariance matrix\n",
    "eigen_values , eigen_vectors = np.linalg.eigh(data.cov())\n",
    "print(\"Eigen Values of Covariance Matrix :\",eigen_values)\n",
    "print(\"Eigen Vectors of Covariance Matrix :\")\n",
    "print(eigen_vectors)"
   ]
  },
  {
   "cell_type": "code",
   "execution_count": 10,
   "id": "363ccfc5-d707-4724-b14b-6c1f9e71438c",
   "metadata": {},
   "outputs": [
    {
     "name": "stdout",
     "output_type": "stream",
     "text": [
      "\n",
      "Step 5. Sort Eigenvalues in descending order\n",
      "Sorting Index based on Eigen Value : [2 1 0]\n",
      "Sorting Eigen Value : [1.63801667e+03 3.82275407e+02 7.92511994e-03]\n",
      "Sorted Eigen Vectors :\n",
      "[[ 0.03030913  0.05082148  0.99824773]\n",
      " [ 0.56393759  0.82370297 -0.05905775]\n",
      " [ 0.82526102 -0.56473941  0.00369442]]\n"
     ]
    }
   ],
   "source": [
    "print(\"\\nStep 5. Sort Eigenvalues in descending order\")\n",
    "# Sort the Eigenvalues in the descending order along with their corresponding Eigenvector.\n",
    "# Remember each column in the Eigen vector-matrix corresponds to a principal component,\n",
    "# So arranging them in descending order of their Eigenvalue \n",
    "# will automatically arrange the principal component in descending order of their variability.\n",
    "# Hence the first column in our rearranged Eigen vector-matrix will be a principal component that captures the highest variability.\n",
    "\n",
    "#sort the eigenvalues in descending order\n",
    "sorted_index = np.argsort(eigen_values)[::-1]\n",
    "print(\"Sorting Index based on Eigen Value :\",sorted_index)\n",
    "sorted_eigenvalue = eigen_values[sorted_index]\n",
    "print(\"Sorting Eigen Value :\",sorted_eigenvalue)\n",
    "#similarly sort the eigenvectors \n",
    "sorted_eigenvectors = eigen_vectors[:,sorted_index]\n",
    "print(\"Sorted Eigen Vectors :\")\n",
    "print(sorted_eigenvectors)"
   ]
  },
  {
   "cell_type": "code",
   "execution_count": 11,
   "id": "86bdbb31-aef8-4bff-b540-63a5bcedb64d",
   "metadata": {},
   "outputs": [
    {
     "name": "stdout",
     "output_type": "stream",
     "text": [
      "\n",
      "Step 6. Select a subset from the rearranged Eigenvalue matrix\n",
      "Number of Principal Components : 2\n",
      "Filter Eigen Vector Subset :\n",
      "[[ 0.03030913  0.05082148]\n",
      " [ 0.56393759  0.82370297]\n",
      " [ 0.82526102 -0.56473941]]\n"
     ]
    }
   ],
   "source": [
    "print(\"\\nStep 6. Select a subset from the rearranged Eigenvalue matrix\")\n",
    "# Select a subset from the rearranged Eigenvalue matrix as per our need i.e. number_comp = 2. \n",
    "# This means we selected the first two principal components.\n",
    "# select the first n eigenvectors, n is desired dimension of our final reduced data.\n",
    "n_components = 2 #you can select any number of components.\n",
    "print(\"Number of Principal Components :\",n_components)\n",
    "eigenvector_subset = sorted_eigenvectors[:,0:n_components]\n",
    "print(\"Filter Eigen Vector Subset :\")\n",
    "print(eigenvector_subset)\n",
    "# n_components = 2 means our final data should be reduced to just 2 variables. \n",
    "# if we change it to 3 then we get our data reduced to 3 variables."
   ]
  },
  {
   "cell_type": "code",
   "execution_count": 12,
   "id": "b159df40-54cb-4073-885f-c0195c59d185",
   "metadata": {},
   "outputs": [
    {
     "name": "stdout",
     "output_type": "stream",
     "text": [
      "\n",
      "Step 7. Transform the data : Mean Centering the data  \n",
      "i. Input Data :\n",
      "   X    Y    Z\n",
      "0  1  123  531\n",
      "1  2  142  522\n",
      "2  3  163  573\n",
      "3  4  174  514\n",
      "4  5  195  595\n",
      "\n",
      "ii. Mean of Each Column\n",
      "X      3.0\n",
      "Y    159.4\n",
      "Z    547.0\n",
      "dtype: float64\n",
      "\n",
      "iii. Mean(Data) = Mean(column) - Column_Value\n",
      "     X     Y     Z\n",
      "0 -2.0 -36.4 -16.0\n",
      "1 -1.0 -17.4 -25.0\n",
      "2  0.0   3.6  26.0\n",
      "3  1.0  14.6 -33.0\n",
      "4  2.0  35.6  48.0\n",
      "In above dataframe, I’ve subtracted the mean of each column from each cell of respective column itself.\n",
      "So the mean of each column now is zero.\n"
     ]
    }
   ],
   "source": [
    "print(\"\\nStep 7. Transform the data : Mean Centering the data  \")\n",
    "# Finally, transform the data by having a dot product between the Transpose of the Eigenvector subset \n",
    "# and the Transpose of the mean-centered data. \n",
    "# By transposing the outcome of the dot product, \n",
    "# the result we get is the data reduced to lower dimensions from higher dimensions.\n",
    "\n",
    "X_mean = data - data.mean()\n",
    "print(\"i. Input Data :\")\n",
    "print(data)\n",
    "print(\"\\nii. Mean of Each Column\")\n",
    "print(data.mean())\n",
    "print(\"\\niii. Mean(Data) = Mean(column) - Column_Value\")\n",
    "print(X_mean)\n",
    "print(\"In above dataframe, I’ve subtracted the mean of each column from each cell of respective column itself.\")\n",
    "print(\"So the mean of each column now is zero.\")"
   ]
  },
  {
   "cell_type": "code",
   "execution_count": 13,
   "id": "3a4dd0b1-6926-49ce-b9b0-e0072560bcbe",
   "metadata": {},
   "outputs": [
    {
     "name": "stdout",
     "output_type": "stream",
     "text": [
      "\n",
      "\n",
      "PCA of Data = Dot Product of Mean(Data) and Eigen Vector Subset\n",
      "[[-33.79212281 -21.04860048]\n",
      " [-30.4743487   -0.26476795]\n",
      " [ 23.48696187 -11.7178939 ]\n",
      " [-18.96981579  30.71328524]\n",
      " [ 59.74932542   2.31797709]]\n",
      "\n",
      "The final dimensions of Data reduced to (5,2) and originally the data was of higher dimensions (5,3)\n"
     ]
    }
   ],
   "source": [
    "# Compute PC1 for row 1. \n",
    "#Transform the data \n",
    "X_reduced = np.dot(eigenvector_subset.transpose(),X_mean.transpose()).transpose()\n",
    "print(\"\\n\")\n",
    "print(\"PCA of Data = Dot Product of Mean(Data) and Eigen Vector Subset\")\n",
    "print(X_reduced)\n",
    "print(\"\\nThe final dimensions of Data reduced to (5,2) and originally the data was of higher dimensions (5,3)\")"
   ]
  },
  {
   "cell_type": "markdown",
   "id": "6f1149fe-d2fc-4ea7-9b27-40181c9b82ba",
   "metadata": {},
   "source": [
    "# PCA using Scikit Learn"
   ]
  },
  {
   "cell_type": "code",
   "execution_count": 14,
   "id": "91d31194-b194-40cc-b408-2f7bfe654084",
   "metadata": {},
   "outputs": [],
   "source": [
    "pca = PCA(n_components=2)\n",
    "df_pca = pca.fit_transform(X=data)"
   ]
  },
  {
   "cell_type": "code",
   "execution_count": 16,
   "id": "c4c8a1ed-0827-45a6-bbe0-9dcefb11581e",
   "metadata": {},
   "outputs": [
    {
     "name": "stdout",
     "output_type": "stream",
     "text": [
      "Original Data Shape : (5, 3)\n",
      "   X    Y    Z\n",
      "0  1  123  531\n",
      "1  2  142  522\n",
      "2  3  163  573\n",
      "3  4  174  514\n",
      "4  5  195  595\n",
      "\n",
      "\n",
      "PCA Data Shape : (5, 2)\n",
      "       0      1\n",
      "0 -33.79 -21.05\n",
      "1 -30.47  -0.26\n",
      "2  23.49 -11.72\n",
      "3 -18.97  30.71\n",
      "4  59.75   2.32\n"
     ]
    }
   ],
   "source": [
    "\n",
    "df_pca = pd.DataFrame(df_pca)\n",
    "print(\"Original Data Shape :\",data.shape)\n",
    "print(data)\n",
    "print(\"\\n\")\n",
    "print(\"PCA Data Shape :\",df_pca.shape)\n",
    "print(df_pca.round(2))\n",
    "# The first column is the first PC and so on. This dataframe (df_pca) has the same dimensions as the original data X."
   ]
  },
  {
   "cell_type": "code",
   "execution_count": 17,
   "id": "1fc812fb-61a7-429b-bbe1-a2f0914a1f6d",
   "metadata": {},
   "outputs": [
    {
     "name": "stdout",
     "output_type": "stream",
     "text": [
      "\n",
      "\n",
      "Eigen Vectors :\n",
      "[[ 0.03030913  0.56393759  0.82526102]\n",
      " [ 0.05082148  0.82370297 -0.56473941]]\n"
     ]
    }
   ],
   "source": [
    "# Principal Components Weights (Eigenvectors)\n",
    "print(\"\\n\")\n",
    "print(\"Eigen Vectors :\")\n",
    "print(pca.components_)"
   ]
  },
  {
   "cell_type": "markdown",
   "id": "991b1a63-d02c-4cb0-a25b-b1af041c9fb1",
   "metadata": {},
   "source": [
    "### How many components to take ?"
   ]
  },
  {
   "cell_type": "code",
   "execution_count": 20,
   "id": "607c26f7-7e42-4f57-91e1-388e1b0082d4",
   "metadata": {},
   "outputs": [
    {
     "name": "stdout",
     "output_type": "stream",
     "text": [
      "[8.10778928e-01 1.89217150e-01 3.92274411e-06]\n",
      "So variance explained by each component are 0.81, 0.18, 0.000003\n"
     ]
    }
   ],
   "source": [
    "pca = PCA()\n",
    "df_pca = pca.fit_transform(X=data)\n",
    "# Ratio of Variance explained by each component\n",
    "# We can now look at the proportion of variance explained by each PC.\n",
    "var = pca.explained_variance_ratio_\n",
    "print(var)\n",
    "print(\"So variance explained by each component are 0.81, 0.18, 0.000003\")\n",
    "\n",
    "# Inference : \n",
    "# From the output we find that PC1 explains 81% of the variance, \n",
    "# PC2 explains 18% and so on. \n",
    "# We find that the first 2 components explain approximately 90% of the variance \n",
    "# (0.81+0.18+0.000003)"
   ]
  },
  {
   "cell_type": "markdown",
   "id": "7280af9e-edf8-4c05-9680-d7d0dc2fab51",
   "metadata": {},
   "source": [
    "###  PCA Chart"
   ]
  },
  {
   "cell_type": "code",
   "execution_count": 22,
   "id": "c6e3fde4-7d64-4da9-9269-0bd100725bd8",
   "metadata": {},
   "outputs": [
    {
     "data": {
      "text/plain": [
       "Text(0, 0.5, 'Cumulative Proportion of Variance Explained')"
      ]
     },
     "execution_count": 22,
     "metadata": {},
     "output_type": "execute_result"
    },
    {
     "data": {
      "image/png": "[encoded data removed]",
      "text/plain": [
       "<Figure size 640x480 with 1 Axes>"
      ]
     },
     "metadata": {},
     "output_type": "display_data"
    }
   ],
   "source": [
    "# In the above step, we got the proportion of variance explained by each component \n",
    "# which we need to decide the number of components. \n",
    "# We calculated that the first seven components explain most of the variance, \n",
    "# however, we plot the explained variance on a line graph. \n",
    "# Here we plot the ratio of variance explained by each component using a line graph. \n",
    "# This PCA chart helps us to decide the number of principal components to be taken for the modeling algorithm.\n",
    "\n",
    "cumulative_var = np.cumsum(np.round(var, decimals=4)*100)\n",
    "plt.plot(cumulative_var,'k-o',markerfacecolor='None',markeredgecolor='k')\n",
    "plt.title('Principal Component Analysis',fontsize=12)\n",
    "plt.xlabel(\"Principal Component\",fontsize=12)\n",
    "plt.ylabel(\"Cumulative Proportion of Variance Explained\",fontsize=12)"
   ]
  },
  {
   "cell_type": "markdown",
   "id": "e3f9d5a6-668e-4a65-990b-0447816c9940",
   "metadata": {},
   "source": [
    "### How to get the original features back"
   ]
  },
  {
   "cell_type": "code",
   "execution_count": 23,
   "id": "34c0a40a-9974-4efc-9109-bc67d7ee9516",
   "metadata": {},
   "outputs": [
    {
     "name": "stdout",
     "output_type": "stream",
     "text": [
      "PCA Dataframe\n",
      "[[-3.379e+01 -2.105e+01 -9.000e-02]\n",
      " [-3.047e+01 -2.600e-01  6.000e-02]\n",
      " [ 2.349e+01 -1.172e+01  1.200e-01]\n",
      " [-1.897e+01  3.071e+01 -1.000e-02]\n",
      " [ 5.975e+01  2.320e+00 -7.000e-02]]\n",
      "\n",
      "\n",
      "Original Dataframe :\n",
      "     0      1      2\n",
      "0  1.0  123.0  531.0\n",
      "1  2.0  142.0  522.0\n",
      "2  3.0  163.0  573.0\n",
      "3  4.0  174.0  514.0\n",
      "4  5.0  195.0  595.0\n"
     ]
    }
   ],
   "source": [
    "\n",
    "# The fitted pca object has the inverse_transform() method that gives back the original data when you input principal components features.\n",
    "print(\"PCA Dataframe\")\n",
    "print(df_pca.round(2))\n",
    "df_orig = pca.inverse_transform(df_pca)\n",
    "print(\"\\n\")\n",
    "print(\"Original Dataframe :\")\n",
    "print(pd.DataFrame(df_orig).round())"
   ]
  },
  {
   "cell_type": "code",
   "execution_count": null,
   "id": "c6bc2335-8c6a-43d3-90c0-651cdd86be86",
   "metadata": {},
   "outputs": [],
   "source": []
  }
 ],
 "metadata": {
  "kernelspec": {
   "display_name": "Python 3 (ipykernel)",
   "language": "python",
   "name": "python3"
  },
  "language_info": {
   "codemirror_mode": {
    "name": "ipython",
    "version": 3
   },
   "file_extension": ".py",
   "mimetype": "text/x-python",
   "name": "python",
   "nbconvert_exporter": "python",
   "pygments_lexer": "ipython3",
   "version": "3.12.0"
  }
 },
 "nbformat": 4,
 "nbformat_minor": 5
}
